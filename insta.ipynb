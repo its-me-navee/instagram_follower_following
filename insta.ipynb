{
 "cells": [
  {
   "cell_type": "code",
   "execution_count": null,
   "metadata": {},
   "outputs": [],
   "source": [
    "import xlwt\n",
    "from time import sleep\n",
    "from selenium import webdriver\n",
    "from selenium.webdriver.common.by import By\n",
    "from selenium.webdriver.common.keys import Keys\n",
    "from selenium.webdriver.common.action_chains import ActionChains"
   ]
  },
  {
   "cell_type": "code",
   "execution_count": null,
   "metadata": {},
   "outputs": [],
   "source": [
    "options = webdriver.ChromeOptions()\n",
    "# options.add_experimental_option('detach', True)\n",
    "# driver = webdriver.Chrome(options=options)\n",
    "\n",
    "options.add_argument('--no-sandbox')\n",
    "options.add_argument(\"--log-level=3\")\n",
    "mobile_emulation = {\n",
    "    \"userAgent\": \"Mozilla/5.0 (Linux; Android 4.2.1; en-us; Nexus 5 Build/JOP40D) AppleWebKit/535.19 (KHTML, like Gecko) Chrome/90.0.1025.166 Mobile Safari/535.19\"}\n",
    "options.add_experimental_option(\"mobileEmulation\", mobile_emulation)\n",
    "\n",
    "driver = webdriver.Chrome(options=options)\n",
    "driver.maximize_window()\n",
    "driver.implicitly_wait(1)"
   ]
  },
  {
   "cell_type": "code",
   "execution_count": null,
   "metadata": {},
   "outputs": [],
   "source": [
    "username='###'\n",
    "password='###'\n",
    "\n",
    "url = 'https://www.instagram.com/accounts/login/'\n",
    "\n",
    "driver.get(url)\n",
    "\n",
    "sleep(1)\n",
    "\n",
    "username_input = driver.find_element(By.CSS_SELECTOR, \"input[name='username']\")\n",
    "password_input = driver.find_element(By.CSS_SELECTOR, \"input[name='password']\")\n",
    "\n",
    "username_input.send_keys(username)\n",
    "password_input.send_keys(password)\n",
    "\n",
    "login_button = driver.find_elements(By.XPATH, \"//button[@type='submit']\")\n",
    "login_button[0].click()\n"
   ]
  },
  {
   "cell_type": "code",
   "execution_count": null,
   "metadata": {},
   "outputs": [],
   "source": [
    "#url = 'https://www.instagram.com/{}/?next=%2F'.format(username)\n",
    "url = 'https://www.instagram.com/navee.1729/?next=%2F'\n",
    "driver.get(url)"
   ]
  },
  {
   "cell_type": "code",
   "execution_count": null,
   "metadata": {},
   "outputs": [],
   "source": [
    "profile = driver.find_elements(By.PARTIAL_LINK_TEXT, 'Profile')\n",
    "profile[0].click()"
   ]
  },
  {
   "cell_type": "code",
   "execution_count": null,
   "metadata": {},
   "outputs": [],
   "source": [
    "following = driver.find_elements(By.PARTIAL_LINK_TEXT, 'following')\n",
    "following[0].click()"
   ]
  },
  {
   "cell_type": "code",
   "execution_count": null,
   "metadata": {},
   "outputs": [],
   "source": [
    "prev, cur = '', ''\n",
    "followingList = []\n",
    "while True:\n",
    "    ActionChains(driver).send_keys(Keys.END).perform()\n",
    "    lst = driver.find_elements(By.CLASS_NAME, 'x9f619.xjbqb8w.x1rg5ohu.x168nmei.x13lgxp2.x5pf9jr.xo71vjh.x1n2onr6.x1plvlek.xryxfnj.x1c4vz4f.x2lah0s.x1q0g3np.xqjyukv.x6s0dn4.x1oa3qoh.x1nhvcw1')\n",
    "    for i in reversed(lst):\n",
    "        name = i.text.split('\\n')\n",
    "        if name[0] in followingList:\n",
    "            break\n",
    "        followingList.append(name[0])\n",
    "    cur = lst[len(lst)-1].text\n",
    "    if cur==prev:\n",
    "        break\n",
    "    prev = cur"
   ]
  },
  {
   "cell_type": "code",
   "execution_count": null,
   "metadata": {},
   "outputs": [],
   "source": [
    "print(len(followingList))\n",
    "print(followingList)"
   ]
  },
  {
   "cell_type": "code",
   "execution_count": null,
   "metadata": {},
   "outputs": [],
   "source": [
    "driver.back()"
   ]
  },
  {
   "cell_type": "code",
   "execution_count": null,
   "metadata": {},
   "outputs": [],
   "source": [
    "follower = driver.find_elements(By.PARTIAL_LINK_TEXT, 'followers')\n",
    "follower[0].click()"
   ]
  },
  {
   "cell_type": "code",
   "execution_count": null,
   "metadata": {},
   "outputs": [],
   "source": [
    "prev, cur = '', ''\n",
    "followerList = []\n",
    "while True:\n",
    "    ActionChains(driver).send_keys(Keys.END).perform()\n",
    "    lst = driver.find_elements(By.CLASS_NAME, 'x9f619.xjbqb8w.x1rg5ohu.x168nmei.x13lgxp2.x5pf9jr.xo71vjh.x1n2onr6.x1plvlek.xryxfnj.x1c4vz4f.x2lah0s.x1q0g3np.xqjyukv.x6s0dn4.x1oa3qoh.x1nhvcw1')\n",
    "    for i in reversed(lst):\n",
    "        name = i.text.split('\\n')\n",
    "        if name[0] in followerList:\n",
    "            break\n",
    "        followerList.append(name[0])\n",
    "    cur = lst[len(lst)-1].text\n",
    "    if cur==prev:\n",
    "        break\n",
    "    prev = cur\n",
    "# lst = driver.find_elements(By.CLASS_NAME, 'x9f619.xjbqb8w.x1rg5ohu.x168nmei.x13lgxp2.x5pf9jr.xo71vjh.x1n2onr6.x1plvlek.xryxfnj.x1c4vz4f.x2lah0s.x1q0g3np.xqjyukv.x6s0dn4.x1oa3qoh.x1nhvcw1')"
   ]
  },
  {
   "cell_type": "code",
   "execution_count": null,
   "metadata": {},
   "outputs": [],
   "source": [
    "print(len(followerList))\n",
    "print(followerList)"
   ]
  },
  {
   "cell_type": "code",
   "execution_count": null,
   "metadata": {},
   "outputs": [],
   "source": [
    "accounts1 = []\n",
    "for nam in followingList:\n",
    "    if nam not in followerList:\n",
    "        accounts1.append(nam)"
   ]
  },
  {
   "cell_type": "code",
   "execution_count": null,
   "metadata": {},
   "outputs": [],
   "source": [
    "accounts2 = []\n",
    "for nam in followerList:\n",
    "    if nam not in followingList:\n",
    "        accounts2.append(nam)"
   ]
  },
  {
   "cell_type": "code",
   "execution_count": null,
   "metadata": {},
   "outputs": [],
   "source": [
    "workbook = xlwt.Workbook() \n",
    "sheet = workbook.add_sheet(\"Following_Follower\")\n",
    "style = xlwt.easyxf('font: bold 1, color black;')\n",
    "\n",
    "sheet.write(0, 0, 'Accounts you follow and dont follow you back', style)\n",
    "sheet.write(0, 1, 'Accounts follow you and you dont follow back', style)\n",
    "\n",
    "rown=0\n",
    "for i in accounts1:\n",
    "    rown += 1\n",
    "    sheet.write(rown, 0, i, style)\n",
    "\n",
    "rown=0\n",
    "for i in accounts2:\n",
    "    rown += 1\n",
    "    sheet.write(rown, 1, i, style)\n",
    "  \n",
    "workbook.save(f'{username}.xls')"
   ]
  },
  {
   "cell_type": "code",
   "execution_count": null,
   "metadata": {},
   "outputs": [],
   "source": []
  }
 ],
 "metadata": {
  "kernelspec": {
   "display_name": "Python 3",
   "language": "python",
   "name": "python3"
  },
  "language_info": {
   "codemirror_mode": {
    "name": "ipython",
    "version": 3
   },
   "file_extension": ".py",
   "mimetype": "text/x-python",
   "name": "python",
   "nbconvert_exporter": "python",
   "pygments_lexer": "ipython3",
   "version": "3.10.9"
  },
  "orig_nbformat": 4
 },
 "nbformat": 4,
 "nbformat_minor": 2
}
